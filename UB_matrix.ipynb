{
 "cells": [
  {
   "cell_type": "markdown",
   "metadata": {},
   "source": [
    "Here we explain how to use matrices to convert from angle space $2\\Theta$, $\\theta$, $\\chi$, $\\phi$  to reciprocal space. The proceedure we follow is similar to that described in Busing and Levy Acta Cryst. 22, 457 (1967).  "
   ]
  },
  {
   "cell_type": "markdown",
   "metadata": {},
   "source": [
    "The first thing to do is to define the unit cell and reciprocal lattice and we choose an x-ray wavelength corresponding to 10 keV. Lengths here are in Angstroms. We use the \"physics\" convention where $|a^*|=2\\pi/a$ rather than the \"crystalographic\" notation of $|a^*|=2\\pi/a$. Angles are in degrees. "
   ]
  },
  {
   "cell_type": "code",
   "execution_count": 1,
   "metadata": {},
   "outputs": [],
   "source": [
    "import numpy as np\n",
    "from trigonometry import sin, cos, arccos\n",
    "\n",
    "lam = 12398/10000\n",
    "\n",
    "a = 5.811\n",
    "b = 10.07\n",
    "c = 6.628\n",
    "alpha = 90\n",
    "beta =  100.7\n",
    "gamma = 90\n",
    "\n",
    "M = np.array([[a**2,           a*b*cos(gamma), a*c*cos(beta)],\n",
    "              [a*b*cos(gamma), b**2,           b*c*cos(alpha)],\n",
    "              [a*c*cos(beta),  b*c*cos(alpha), c**2          ]])\n",
    "\n",
    "Minv = (2*np.pi)**2*np.linalg.inv(M)\n",
    "\n",
    "a_star = np.sqrt(Minv[0, 0])\n",
    "b_star = np.sqrt(Minv[1, 1])\n",
    "c_star = np.sqrt(Minv[2, 2])\n",
    "\n",
    "alpha_star = arccos(Minv[1, 2]/(b_star*c_star))\n",
    "beta_star = arccos(Minv[0, 2]/(a_star*c_star))\n",
    "gamma_star = arccos(Minv[0, 1]/(a_star*b_star))"
   ]
  },
  {
   "cell_type": "markdown",
   "metadata": {},
   "source": [
    "To proceed with our conversion it is helpful to imagine a Cartesian frame of reference as an intermediate step between angle and reciprocal space. \n",
    "\n",
    "To do this we introduce $\\omega$ as an angle that defines the direction of $Q$ and use Busing and Levy's construction. Here the order of rotations i.e. $\\phi$ sits on $\\chi$  sits on $\\theta$ is crucial, but this Cartesian space overall can be oriented in any direction -- this will get absorbed into our workflow. "
   ]
  },
  {
   "cell_type": "code",
   "execution_count": 2,
   "metadata": {},
   "outputs": [],
   "source": [
    "def angles2cart(tth, th, chi, phi, lam):\n",
    "    omega = th - tth/2\n",
    "    q_carterian_unit_vector = np.array([cos(omega)*cos(chi)*cos(phi) - sin(omega)*sin(phi),\n",
    "                                        cos(omega)*cos(chi)*sin(phi) + sin(omega)*cos(phi),\n",
    "                                        cos(omega)*sin(chi)])\n",
    "    \n",
    "    q_cart = 4*np.pi*sin(tth/2)*q_carterian_unit_vector/lam\n",
    "    return q_cart"
   ]
  },
  {
   "cell_type": "markdown",
   "metadata": {},
   "source": [
    "Converting from reciprocal lattice vectors to a Cartesian frame can be done by a matrix. The 2pi here in the bottomm right of the matrix comes from our convention. "
   ]
  },
  {
   "cell_type": "code",
   "execution_count": 3,
   "metadata": {},
   "outputs": [],
   "source": [
    "B = np.array([[a_star, b_star*cos(gamma_star), c_star*cos(beta_star)],\n",
    "              [0,       b_star*sin(gamma_star), -c_star*sin(beta_star)*cos(alpha)],\n",
    "              [0,       0,                       2*np.pi/c]])   "
   ]
  },
  {
   "cell_type": "markdown",
   "metadata": {},
   "source": [
    "To uniquely determine the orientation of a sample you need to know a minimum of two non-parallel reflections definied in terms of angular positions of the goniometer and reciprocal space assignments. Both the angular position and the reciprocal space assignments are converted into Cartesian space. Some matrix tricks can be used to determine matrix U, which defnies the rotational offset between the vectors in Cartesian space. In effect, the procedure choose U such that ``position_1`` to have $Q$ exactly parallel to ``assignment_1`` and chooses the azimuthal translation frame to match ``position_1`` to ``assignment_1``. This will only work perfectly if the positioins and assignment have the same offsets. "
   ]
  },
  {
   "cell_type": "code",
   "execution_count": 4,
   "metadata": {},
   "outputs": [
    {
     "name": "stdout",
     "output_type": "stream",
     "text": [
      "Assignment [0 0 4] predicted as [ 0. -0.  4.]\n",
      "Assignment [-1  0  5] predicted as [-1.  0.  5.]\n"
     ]
    }
   ],
   "source": [
    "position_1 = (44.7580,  22.3790,  90.0000, 0)\n",
    "position_2 = (55.8185,   14.7355, 90.0000, 0)\n",
    "\n",
    "assignment_1 = np.array([0, 0, 4])\n",
    "assignment_2 = np.array([-1, 0, 5])\n",
    "\n",
    "def get_T_mat(vec1, vec2):\n",
    "    t1 = vec1/np.linalg.norm(vec1)\n",
    "    cross = np.cross(vec1, vec2)\n",
    "    t3 = cross/np.linalg.norm(cross)\n",
    "    t2 = np.cross(t3, t1)\n",
    "    T = np.stack([t1, t2, t3]).T\n",
    "    return T\n",
    "\n",
    "def get_U(position_1, assignment_1,\n",
    "          position_2, assignment_2,\n",
    "          B, lam):\n",
    "    T_pos = get_T_mat(angles2cart(*position_1, lam),\n",
    "                      angles2cart(*position_2, lam))\n",
    "    T_ass = get_T_mat(np.dot(B, assignment_1),\n",
    "                      np.dot(B, assignment_2))\n",
    "    U = np.matmul(T_pos, T_ass.T)\n",
    "    return U\n",
    "\n",
    "U = get_U(position_1, assignment_1,\n",
    "          position_2, assignment_2,\n",
    "          B, lam)\n",
    "UB = np.matmul(U, B)\n",
    "invUB = np.linalg.inv(UB)\n",
    "\n",
    "def get_HKL(position, invUB, lam):\n",
    "    return np.dot(invUB, angles2cart(*position, lam)) \n",
    "\n",
    "for p, a in zip([position_1, position_2],\n",
    "                [assignment_1, assignment_2]):\n",
    "                  predict = get_HKL(p, invUB, lam)\n",
    "                  print(f\"Assignment {a.round(4)} predicted as {predict.round(4)}\")"
   ]
  },
  {
   "cell_type": "code",
   "execution_count": null,
   "metadata": {},
   "outputs": [],
   "source": []
  }
 ],
 "metadata": {
  "kernelspec": {
   "display_name": "Python 3 (ipykernel)",
   "language": "python",
   "name": "python3"
  },
  "language_info": {
   "codemirror_mode": {
    "name": "ipython",
    "version": 3
   },
   "file_extension": ".py",
   "mimetype": "text/x-python",
   "name": "python",
   "nbconvert_exporter": "python",
   "pygments_lexer": "ipython3",
   "version": "3.7.12"
  }
 },
 "nbformat": 4,
 "nbformat_minor": 4
}
